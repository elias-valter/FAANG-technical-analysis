{
 "cells": [
  {
   "cell_type": "code",
   "execution_count": 4,
   "metadata": {},
   "outputs": [
    {
     "ename": "ModuleNotFoundError",
     "evalue": "No module named 'pandas_datareader'",
     "output_type": "error",
     "traceback": [
      "\u001b[0;31m---------------------------------------------------------------------------\u001b[0m",
      "\u001b[0;31mModuleNotFoundError\u001b[0m                       Traceback (most recent call last)",
      "\u001b[1;32m/home/elias_valter/private_coding/portfolio/FAANG_stock_analysis/yupiter.ipynb Zelle 1\u001b[0m in \u001b[0;36m<cell line: 2>\u001b[0;34m()\u001b[0m\n\u001b[1;32m      <a href='vscode-notebook-cell:/home/elias_valter/private_coding/portfolio/FAANG_stock_analysis/yupiter.ipynb#ch0000000?line=0'>1</a>\u001b[0m \u001b[39mimport\u001b[39;00m \u001b[39mpandas\u001b[39;00m \u001b[39mas\u001b[39;00m \u001b[39mpd\u001b[39;00m\n\u001b[0;32m----> <a href='vscode-notebook-cell:/home/elias_valter/private_coding/portfolio/FAANG_stock_analysis/yupiter.ipynb#ch0000000?line=1'>2</a>\u001b[0m \u001b[39mfrom\u001b[39;00m \u001b[39mpandas_datareader\u001b[39;00m \u001b[39mimport\u001b[39;00m data\n\u001b[1;32m      <a href='vscode-notebook-cell:/home/elias_valter/private_coding/portfolio/FAANG_stock_analysis/yupiter.ipynb#ch0000000?line=2'>3</a>\u001b[0m \u001b[39mimport\u001b[39;00m \u001b[39mmatplotlib\u001b[39;00m\u001b[39m.\u001b[39;00m\u001b[39mpyplot\u001b[39;00m \u001b[39mas\u001b[39;00m \u001b[39mplt\u001b[39;00m\n\u001b[1;32m      <a href='vscode-notebook-cell:/home/elias_valter/private_coding/portfolio/FAANG_stock_analysis/yupiter.ipynb#ch0000000?line=4'>5</a>\u001b[0m START_DATE \u001b[39m=\u001b[39m \u001b[39m'\u001b[39m\u001b[39m2021/1/1\u001b[39m\u001b[39m'\u001b[39m\n",
      "\u001b[0;31mModuleNotFoundError\u001b[0m: No module named 'pandas_datareader'"
     ]
    }
   ],
   "source": [
    "import pandas as pd\n",
    "from pandas_datareader import data\n",
    "import matplotlib.pyplot as plt\n",
    "\n",
    "START_DATE = '2021/1/1'\n",
    "END_DATE = '2022/1/1'\n",
    "\n",
    "meta = data.DataReader('META', 'yahoo', START_DATE, END_DATE)\n",
    "apple = data.DataReader('AAPL', 'yahoo', START_DATE, END_DATE)\n",
    "amzn = data.DataReader('AMZN', 'yahoo', START_DATE, END_DATE)\n",
    "nflx = data.DataReader('NFLX', 'yahoo', START_DATE, END_DATE)\n",
    "goog = data.DataReader('GOOG', 'yahoo', START_DATE, END_DATE)\n",
    "\n",
    "\n",
    "apple['Close'].plot()\n",
    "plt.show()"
   ]
  }
 ],
 "metadata": {
  "kernelspec": {
   "display_name": "Python 3.8.10 64-bit",
   "language": "python",
   "name": "python3"
  },
  "language_info": {
   "codemirror_mode": {
    "name": "ipython",
    "version": 3
   },
   "file_extension": ".py",
   "mimetype": "text/x-python",
   "name": "python",
   "nbconvert_exporter": "python",
   "pygments_lexer": "ipython3",
   "version": "3.8.10"
  },
  "orig_nbformat": 4,
  "vscode": {
   "interpreter": {
    "hash": "916dbcbb3f70747c44a77c7bcd40155683ae19c65e1c03b4aa3499c5328201f1"
   }
  }
 },
 "nbformat": 4,
 "nbformat_minor": 2
}
